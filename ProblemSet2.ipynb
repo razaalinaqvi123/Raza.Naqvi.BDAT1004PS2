{
 "cells": [
  {
   "cell_type": "markdown",
   "id": "21b0e83a",
   "metadata": {},
   "source": [
    "# QUESTION 1"
   ]
  },
  {
   "cell_type": "code",
   "execution_count": 2,
   "id": "34d6e43f",
   "metadata": {},
   "outputs": [
    {
     "name": "stdout",
     "output_type": "stream",
     "text": [
      "The value of a is:  2\n",
      "The value of a is:  4\n",
      "The value of a is:  6\n",
      "6\n"
     ]
    }
   ],
   "source": [
    "a = 0\n",
    "def  b():\n",
    "    global  a #The initial value of a=0\n",
    "    a  = c(a) # a=c(0) will return a=2\n",
    "    print('The value of a is: ',a)\n",
    "\n",
    "def  c(a):\n",
    "    return  a  +  2\n",
    "\n",
    "b() #a=0+2=2\n",
    "b() #a=2+2=4\n",
    "b() #a=4+2=6\n",
    "print(a) #a=6"
   ]
  },
  {
   "cell_type": "markdown",
   "id": "8d1948df",
   "metadata": {},
   "source": [
    "# QUESTION 2"
   ]
  },
  {
   "cell_type": "code",
   "execution_count": 3,
   "id": "6f38eb8b",
   "metadata": {},
   "outputs": [
    {
     "name": "stdout",
     "output_type": "stream",
     "text": [
      "file idterm.py not found\n"
     ]
    }
   ],
   "source": [
    "file_name = \"C:/Users/Raza Naqvi/Desktop/currenciess.txt\"\n",
    "\n",
    "file_name = \"idterm.py\"\n",
    "\n",
    "def file_length(file_name):\n",
    "    file = open(file_name)\n",
    "    contents = file.read()\n",
    "    file.close()\n",
    "    print(len(contents))\n",
    "try:\n",
    "    file_length(file_name)\n",
    "except FileNotFoundError:\n",
    "    print(f\"file {file_name} not found\")"
   ]
  },
  {
   "cell_type": "markdown",
   "id": "698fcba2",
   "metadata": {},
   "source": [
    "# QUESTION 3"
   ]
  },
  {
   "cell_type": "code",
   "execution_count": 4,
   "id": "7bc805d3",
   "metadata": {},
   "outputs": [
    {
     "name": "stdout",
     "output_type": "stream",
     "text": [
      "['doll', 'firetruck', 'kitten']\n",
      "I am a Kangaroo located at coordinates (0,0)\n",
      "I am a Kangaroo located at coordinates (3,2)\n"
     ]
    }
   ],
   "source": [
    "class Marsupial:\n",
    "    def __init__(self):\n",
    "        self.contents = []\n",
    "\n",
    "    def put_in_pouch(self, item):\n",
    "        self.contents.append(item)\n",
    "\n",
    "    def pouch_contents(self):\n",
    "        print(self.contents)\n",
    "\n",
    "\n",
    "m = Marsupial()\n",
    "m.put_in_pouch(\"doll\")\n",
    "m.put_in_pouch(\"firetruck\")\n",
    "m.put_in_pouch(\"kitten\")\n",
    "m.pouch_contents()\n",
    "\n",
    "\n",
    "class Kangaroo(Marsupial):\n",
    "    def __init__(self, xcoord, ycoord):\n",
    "        self.x = xcoord\n",
    "        self.y = ycoord\n",
    "        print(f\"I am a Kangaroo located at coordinates ({self.x},{self.y})\")\n",
    "\n",
    "    def _jump(self, xcoord, ycoord):\n",
    "        self.x = self.x + xcoord\n",
    "        self.y = self.y + ycoord\n",
    "\n",
    "    def __str__(self):\n",
    "        rep = f\"I am a Kangaroo located at coordinates ({self.x},{self.y})\"\n",
    "        return rep\n",
    "\n",
    "\n",
    "k = Kangaroo(0, 0)\n",
    "k._jump(1, 0)\n",
    "k._jump(1, 0)\n",
    "k._jump(1, 2)\n",
    "print(k)\n"
   ]
  },
  {
   "cell_type": "markdown",
   "id": "bfca3d5d",
   "metadata": {},
   "source": [
    "# QUESTION 4"
   ]
  },
  {
   "cell_type": "code",
   "execution_count": 5,
   "id": "7aa6245d",
   "metadata": {},
   "outputs": [
    {
     "name": "stdout",
     "output_type": "stream",
     "text": [
      "Enter the value of x: 10\n",
      "[10]\n",
      "[5.0]\n",
      "[16.0]\n",
      "[8.0]\n",
      "[4.0]\n",
      "[2.0]\n",
      "[1.0]\n"
     ]
    },
    {
     "data": {
      "text/plain": [
       "[10, 5.0, 16.0, 8.0, 4.0, 2.0, 1]"
      ]
     },
     "execution_count": 5,
     "metadata": {},
     "output_type": "execute_result"
    }
   ],
   "source": [
    "x=input(\"Enter the value of x: \")\n",
    "def collatz(x):\n",
    "    l=[x]\n",
    "    if x==1:\n",
    "        print(l)\n",
    "        return [1]\n",
    "    elif x%2==0:\n",
    "        print(l)\n",
    "        l.extend(collatz(x/2))\n",
    "    else:\n",
    "        print(l)\n",
    "        l.extend(collatz(x*3+1))\n",
    "    return l\n",
    "\n",
    "collatz(int(x))"
   ]
  },
  {
   "cell_type": "markdown",
   "id": "2bfcdc8e",
   "metadata": {},
   "source": [
    "# QUESTION 5"
   ]
  },
  {
   "cell_type": "code",
   "execution_count": 6,
   "id": "57de8998",
   "metadata": {},
   "outputs": [
    {
     "name": "stdout",
     "output_type": "stream",
     "text": [
      "11001000\n"
     ]
    }
   ],
   "source": [
    "def binary(n):\n",
    "    if n == 0:\n",
    "        return 0\n",
    "    else:\n",
    "        return (n % 2 + 10 *\n",
    "                binary(int(n // 2)))\n",
    "\n",
    "print(binary(200))"
   ]
  },
  {
   "cell_type": "markdown",
   "id": "01f23fd6",
   "metadata": {},
   "source": [
    "# QUESTION 6"
   ]
  },
  {
   "cell_type": "code",
   "execution_count": 7,
   "id": "8cfc0e94",
   "metadata": {},
   "outputs": [
    {
     "name": "stdout",
     "output_type": "stream",
     "text": [
      "W3C Mission\n",
      "Principles\n"
     ]
    }
   ],
   "source": [
    "from html.parser import HTMLParser\n",
    "\n",
    "\n",
    "class HeadingParser(HTMLParser):\n",
    "    inHeading = False\n",
    "\n",
    "    def handle_starttag(self, tag, attrs):\n",
    "        if tag == \"h1\" or tag == \"h2\":\n",
    "            self.inHeading = True\n",
    "\n",
    "    def handle_data(self, data):\n",
    "        if self.inHeading:\n",
    "            print(data)\n",
    "\n",
    "    def handle_endtag(self, tag):\n",
    "        if tag == \"h1\" or tag == \"h2\":\n",
    "            self.inHeading = False\n",
    "\n",
    "infile = open(\"C:/Users/Raza Naqvi/Desktop/w3c.txt\", \"r\")\n",
    "content = infile.read()\n",
    "infile.close()\n",
    "hp = HeadingParser()\n",
    "hp.feed(content)"
   ]
  },
  {
   "cell_type": "markdown",
   "id": "6adf7b35",
   "metadata": {},
   "source": [
    "# QUESTION 8"
   ]
  },
  {
   "cell_type": "code",
   "execution_count": null,
   "id": "44514450",
   "metadata": {},
   "outputs": [],
   "source": [
    "a. SELECT temperature FROM dbo.rainfall_data\n",
    "b. SELECT DISTINCT city FROM dbo.rainfall_data\n",
    "c. SELECT * FROM dbo.rainfall_data WHERE country = 'India'\n",
    "d. SELECT * FROM dbo.rainfall_data WHERE season = 'Fall'\n",
    "e. SELECT city, country, season FROM dbo.rainfall_data WHERE rainfall BETWEEN 200 AND 400\n",
    "f. SELECT city, country FROM dbo.rainfall_data WHERE season = \"Fall\" AND temperature > 20 ORDER BY temperature ASC\n",
    "g. SELECT SUM(temperature) as Total WHERE city = \"Cairo\"\n",
    "h. SELECT season, SUM(temperature) as Total GROUP BY season"
   ]
  },
  {
   "cell_type": "markdown",
   "id": "d6b6585a",
   "metadata": {},
   "source": [
    "# QUSESTION 9"
   ]
  },
  {
   "cell_type": "code",
   "execution_count": 8,
   "id": "3f855e57",
   "metadata": {},
   "outputs": [
    {
     "name": "stdout",
     "output_type": "stream",
     "text": [
      "['THE', 'QUICK', 'BROWN', 'FOX', 'JUMPS', 'OVER', 'THE', 'LAZY', 'DOG']\n",
      "['the', 'quick', 'brown', 'fox', 'jumps', 'over', 'the', 'lazy', 'dog']\n",
      "[3, 5, 5, 3, 5, 4, 3, 4, 3]\n",
      "[['THE', 'the', 3], ['QUICK', 'quick', 5], ['BROWN', 'brown', 5], ['FOX', 'fox', 3], ['JUMPS', 'jumps', 5], ['OVER', 'over', 4], ['THE', 'the', 3], ['LAZY', 'lazy', 4], ['DOG', 'dog', 3]]\n",
      "['quick', 'brown', 'jumps', 'over', 'lazy']\n"
     ]
    }
   ],
   "source": [
    "words  =  ['The',  'quick',  'brown',  'fox',  'jumps',  'over', 'the',  'lazy',  'dog']\n",
    "# A\n",
    "words_upper = [word.upper() for word in words]\n",
    "print(words_upper)\n",
    "# B\n",
    "words_lower = [word.lower() for word in words]\n",
    "print(words_lower)\n",
    "# C\n",
    "word_len = [len(word) for word in words]\n",
    "print(word_len)\n",
    "# D\n",
    "new_list = []\n",
    "for (x,y,z) in zip(words_upper, words_lower, word_len):\n",
    "    new_list = new_list+[[x, y, z]]\n",
    "print(new_list)\n",
    "# E\n",
    "new_list2 = []\n",
    "for word in words:\n",
    "    if len(word) > 3:\n",
    "        new_list2.append(word)\n",
    "    else:\n",
    "        continue\n",
    "print(new_list2)"
   ]
  },
  {
   "cell_type": "code",
   "execution_count": null,
   "id": "9e05e6b0",
   "metadata": {},
   "outputs": [],
   "source": []
  }
 ],
 "metadata": {
  "kernelspec": {
   "display_name": "Python 3 (ipykernel)",
   "language": "python",
   "name": "python3"
  },
  "language_info": {
   "codemirror_mode": {
    "name": "ipython",
    "version": 3
   },
   "file_extension": ".py",
   "mimetype": "text/x-python",
   "name": "python",
   "nbconvert_exporter": "python",
   "pygments_lexer": "ipython3",
   "version": "3.9.7"
  }
 },
 "nbformat": 4,
 "nbformat_minor": 5
}
